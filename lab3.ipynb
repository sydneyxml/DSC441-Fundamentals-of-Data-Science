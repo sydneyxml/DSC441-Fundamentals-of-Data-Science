{
 "cells": [
  {
   "cell_type": "code",
   "execution_count": 1,
   "metadata": {
    "collapsed": false
   },
   "outputs": [],
   "source": [
    "## Import warnings. Supress warnings (for  matplotlib)\n",
    "import warnings\n",
    "warnings.simplefilter(\"ignore\")"
   ]
  },
  {
   "cell_type": "code",
   "execution_count": 73,
   "metadata": {
    "collapsed": false
   },
   "outputs": [],
   "source": [
    "## Import analysis modules\n",
    "import pandas as p\n",
    "from pandas.tools.plotting import scatter_matrix\n",
    "from numpy import nan, isnan, mean, std, hstack, ravel\n",
    "from sklearn.cross_validation import train_test_split, cross_val_score, KFold, LeaveOneOut, LeavePOut, StratifiedShuffleSplit\n",
    "from sklearn.preprocessing import StandardScaler, MinMaxScaler, MaxAbsScaler, RobustScaler, Binarizer, Imputer, \\\n",
    "LabelEncoder, OneHotEncoder\n",
    "from sklearn.decomposition import PCA\n",
    "from sklearn.tree import DecisionTreeClassifier, export_graphviz\n",
    "from sklearn.metrics import confusion_matrix, classification_report, precision_score, recall_score, roc_curve, auc\n",
    "from sklearn.grid_search import GridSearchCV\n",
    "\n",
    "## Import visualization modules\n",
    "import matplotlib.pyplot as plt\n",
    "import matplotlib.mlab as mlab\n",
    "\n",
    "## Import SciPy\n",
    "from scipy.sparse import issparse"
   ]
  },
  {
   "cell_type": "code",
   "execution_count": 3,
   "metadata": {
    "collapsed": false
   },
   "outputs": [],
   "source": [
    "## Read in file\n",
    "data = p.read_csv('F:\\\\DePaul\\\\IS467\\\\Week5\\\\loan.csv',delimiter='~}',na_values='nan',)"
   ]
  },
  {
   "cell_type": "code",
   "execution_count": 4,
   "metadata": {
    "collapsed": false
   },
   "outputs": [
    {
     "name": "stdout",
     "output_type": "stream",
     "text": [
      "(42535, 112)\n"
     ]
    }
   ],
   "source": [
    "## Count of instances and features\n",
    "rows, columns = data.shape\n",
    "print data.shape"
   ]
  },
  {
   "cell_type": "code",
   "execution_count": 5,
   "metadata": {
    "collapsed": false
   },
   "outputs": [],
   "source": [
    "## Get basic statistics for continuous features\n",
    "numeric = data.describe(include=['number']).T.reset_index()\n",
    "numeric.rename(columns={'index':'feature'},inplace=True)\n",
    "numeric.insert(1,'missing',(rows - numeric['count'])/ float(rows))"
   ]
  },
  {
   "cell_type": "code",
   "execution_count": 6,
   "metadata": {
    "collapsed": false
   },
   "outputs": [],
   "source": [
    "## How many features can we eliminate?\n",
    "drop = numeric[(numeric['missing']==1) | (numeric['std']==0)]"
   ]
  },
  {
   "cell_type": "code",
   "execution_count": 7,
   "metadata": {
    "collapsed": false
   },
   "outputs": [],
   "source": [
    "## Drop the unhelpful features from the base and numeric table\n",
    "data = data.drop(drop['feature'],axis=1)\n",
    "numeric = numeric[~numeric['feature'].isin(drop['feature'])]"
   ]
  },
  {
   "cell_type": "code",
   "execution_count": 8,
   "metadata": {
    "collapsed": false
   },
   "outputs": [],
   "source": [
    "## Get basic statistics for discrete features\n",
    "discrete = data.describe(include=['object']).T.reset_index()\n",
    "discrete.rename(columns={'index':'feature'},inplace=True)\n",
    "discrete.insert(1,'missing',(rows - discrete['count'])/ float(rows))"
   ]
  },
  {
   "cell_type": "code",
   "execution_count": 9,
   "metadata": {
    "collapsed": false
   },
   "outputs": [],
   "source": [
    "## How many features can we eliminate?\n",
    "ddrop = discrete[(discrete['missing']>.6) | (discrete['unique']==1)]"
   ]
  },
  {
   "cell_type": "code",
   "execution_count": 10,
   "metadata": {
    "collapsed": true
   },
   "outputs": [],
   "source": [
    "## Drop unhelpful features from the base table\n",
    "data = data.drop(ddrop['feature'],axis=1)\n",
    "discrete = discrete[~discrete['feature'].isin(ddrop['feature'])]"
   ]
  },
  {
   "cell_type": "code",
   "execution_count": 11,
   "metadata": {
    "collapsed": false
   },
   "outputs": [
    {
     "data": {
      "text/plain": [
       "(42535, 51)"
      ]
     },
     "execution_count": 11,
     "metadata": {},
     "output_type": "execute_result"
    }
   ],
   "source": [
    "## How many columns do we have left?\n",
    "data.shape"
   ]
  },
  {
   "cell_type": "code",
   "execution_count": 12,
   "metadata": {
    "collapsed": false
   },
   "outputs": [
    {
     "data": {
      "text/html": [
       "<div>\n",
       "<table border=\"1\" class=\"dataframe\">\n",
       "  <thead>\n",
       "    <tr style=\"text-align: right;\">\n",
       "      <th></th>\n",
       "      <th>feature</th>\n",
       "      <th>missing</th>\n",
       "      <th>count</th>\n",
       "      <th>unique</th>\n",
       "      <th>top</th>\n",
       "      <th>freq</th>\n",
       "    </tr>\n",
       "  </thead>\n",
       "  <tbody>\n",
       "    <tr>\n",
       "      <th>0</th>\n",
       "      <td>term</td>\n",
       "      <td>0</td>\n",
       "      <td>42535</td>\n",
       "      <td>2</td>\n",
       "      <td>36 months</td>\n",
       "      <td>31534</td>\n",
       "    </tr>\n",
       "    <tr>\n",
       "      <th>1</th>\n",
       "      <td>int_rate</td>\n",
       "      <td>0</td>\n",
       "      <td>42535</td>\n",
       "      <td>394</td>\n",
       "      <td>10.99%</td>\n",
       "      <td>970</td>\n",
       "    </tr>\n",
       "    <tr>\n",
       "      <th>2</th>\n",
       "      <td>grade</td>\n",
       "      <td>0</td>\n",
       "      <td>42535</td>\n",
       "      <td>7</td>\n",
       "      <td>B</td>\n",
       "      <td>12389</td>\n",
       "    </tr>\n",
       "    <tr>\n",
       "      <th>3</th>\n",
       "      <td>sub_grade</td>\n",
       "      <td>0</td>\n",
       "      <td>42535</td>\n",
       "      <td>35</td>\n",
       "      <td>B3</td>\n",
       "      <td>2997</td>\n",
       "    </tr>\n",
       "    <tr>\n",
       "      <th>4</th>\n",
       "      <td>emp_title</td>\n",
       "      <td>0.0616904</td>\n",
       "      <td>39911</td>\n",
       "      <td>30659</td>\n",
       "      <td>US Army</td>\n",
       "      <td>139</td>\n",
       "    </tr>\n",
       "    <tr>\n",
       "      <th>5</th>\n",
       "      <td>emp_length</td>\n",
       "      <td>0</td>\n",
       "      <td>42535</td>\n",
       "      <td>12</td>\n",
       "      <td>10+ years</td>\n",
       "      <td>9369</td>\n",
       "    </tr>\n",
       "    <tr>\n",
       "      <th>6</th>\n",
       "      <td>home_ownership</td>\n",
       "      <td>0</td>\n",
       "      <td>42535</td>\n",
       "      <td>5</td>\n",
       "      <td>RENT</td>\n",
       "      <td>20181</td>\n",
       "    </tr>\n",
       "    <tr>\n",
       "      <th>7</th>\n",
       "      <td>verification_status</td>\n",
       "      <td>0</td>\n",
       "      <td>42535</td>\n",
       "      <td>3</td>\n",
       "      <td>Not Verified</td>\n",
       "      <td>18758</td>\n",
       "    </tr>\n",
       "    <tr>\n",
       "      <th>8</th>\n",
       "      <td>issue_d</td>\n",
       "      <td>0</td>\n",
       "      <td>42535</td>\n",
       "      <td>55</td>\n",
       "      <td>Dec-2011</td>\n",
       "      <td>2267</td>\n",
       "    </tr>\n",
       "    <tr>\n",
       "      <th>9</th>\n",
       "      <td>loan_status</td>\n",
       "      <td>0</td>\n",
       "      <td>42535</td>\n",
       "      <td>9</td>\n",
       "      <td>Fully Paid</td>\n",
       "      <td>33314</td>\n",
       "    </tr>\n",
       "    <tr>\n",
       "      <th>10</th>\n",
       "      <td>pymnt_plan</td>\n",
       "      <td>0</td>\n",
       "      <td>42535</td>\n",
       "      <td>2</td>\n",
       "      <td>n</td>\n",
       "      <td>42534</td>\n",
       "    </tr>\n",
       "    <tr>\n",
       "      <th>11</th>\n",
       "      <td>url</td>\n",
       "      <td>0</td>\n",
       "      <td>42535</td>\n",
       "      <td>42535</td>\n",
       "      <td>https://lendingclub.com/browse/loanDetail.acti...</td>\n",
       "      <td>1</td>\n",
       "    </tr>\n",
       "    <tr>\n",
       "      <th>12</th>\n",
       "      <td>desc</td>\n",
       "      <td>0.312496</td>\n",
       "      <td>29243</td>\n",
       "      <td>28964</td>\n",
       "      <td></td>\n",
       "      <td>225</td>\n",
       "    </tr>\n",
       "    <tr>\n",
       "      <th>13</th>\n",
       "      <td>purpose</td>\n",
       "      <td>0</td>\n",
       "      <td>42535</td>\n",
       "      <td>14</td>\n",
       "      <td>debt_consolidation</td>\n",
       "      <td>19776</td>\n",
       "    </tr>\n",
       "    <tr>\n",
       "      <th>14</th>\n",
       "      <td>title</td>\n",
       "      <td>0.000282121</td>\n",
       "      <td>42523</td>\n",
       "      <td>21265</td>\n",
       "      <td>Debt Consolidation</td>\n",
       "      <td>2259</td>\n",
       "    </tr>\n",
       "    <tr>\n",
       "      <th>15</th>\n",
       "      <td>zip_code</td>\n",
       "      <td>0</td>\n",
       "      <td>42535</td>\n",
       "      <td>837</td>\n",
       "      <td>100xx</td>\n",
       "      <td>649</td>\n",
       "    </tr>\n",
       "    <tr>\n",
       "      <th>16</th>\n",
       "      <td>addr_state</td>\n",
       "      <td>0</td>\n",
       "      <td>42535</td>\n",
       "      <td>50</td>\n",
       "      <td>CA</td>\n",
       "      <td>7429</td>\n",
       "    </tr>\n",
       "    <tr>\n",
       "      <th>17</th>\n",
       "      <td>earliest_cr_line</td>\n",
       "      <td>0.000681791</td>\n",
       "      <td>42506</td>\n",
       "      <td>530</td>\n",
       "      <td>Oct-1999</td>\n",
       "      <td>393</td>\n",
       "    </tr>\n",
       "    <tr>\n",
       "      <th>18</th>\n",
       "      <td>revol_util</td>\n",
       "      <td>0.0021159</td>\n",
       "      <td>42445</td>\n",
       "      <td>1119</td>\n",
       "      <td>0%</td>\n",
       "      <td>1070</td>\n",
       "    </tr>\n",
       "    <tr>\n",
       "      <th>20</th>\n",
       "      <td>last_pymnt_d</td>\n",
       "      <td>0.00195133</td>\n",
       "      <td>42452</td>\n",
       "      <td>105</td>\n",
       "      <td>Mar-2013</td>\n",
       "      <td>1070</td>\n",
       "    </tr>\n",
       "    <tr>\n",
       "      <th>22</th>\n",
       "      <td>last_credit_pull_d</td>\n",
       "      <td>9.40402e-05</td>\n",
       "      <td>42531</td>\n",
       "      <td>110</td>\n",
       "      <td>Jul-2016</td>\n",
       "      <td>12148</td>\n",
       "    </tr>\n",
       "  </tbody>\n",
       "</table>\n",
       "</div>"
      ],
      "text/plain": [
       "                feature      missing  count unique  \\\n",
       "0                  term            0  42535      2   \n",
       "1              int_rate            0  42535    394   \n",
       "2                 grade            0  42535      7   \n",
       "3             sub_grade            0  42535     35   \n",
       "4             emp_title    0.0616904  39911  30659   \n",
       "5            emp_length            0  42535     12   \n",
       "6        home_ownership            0  42535      5   \n",
       "7   verification_status            0  42535      3   \n",
       "8               issue_d            0  42535     55   \n",
       "9           loan_status            0  42535      9   \n",
       "10           pymnt_plan            0  42535      2   \n",
       "11                  url            0  42535  42535   \n",
       "12                 desc     0.312496  29243  28964   \n",
       "13              purpose            0  42535     14   \n",
       "14                title  0.000282121  42523  21265   \n",
       "15             zip_code            0  42535    837   \n",
       "16           addr_state            0  42535     50   \n",
       "17     earliest_cr_line  0.000681791  42506    530   \n",
       "18           revol_util    0.0021159  42445   1119   \n",
       "20         last_pymnt_d   0.00195133  42452    105   \n",
       "22   last_credit_pull_d  9.40402e-05  42531    110   \n",
       "\n",
       "                                                  top   freq  \n",
       "0                                           36 months  31534  \n",
       "1                                              10.99%    970  \n",
       "2                                                   B  12389  \n",
       "3                                                  B3   2997  \n",
       "4                                             US Army    139  \n",
       "5                                           10+ years   9369  \n",
       "6                                                RENT  20181  \n",
       "7                                        Not Verified  18758  \n",
       "8                                            Dec-2011   2267  \n",
       "9                                          Fully Paid  33314  \n",
       "10                                                  n  42534  \n",
       "11  https://lendingclub.com/browse/loanDetail.acti...      1  \n",
       "12                                                       225  \n",
       "13                                 debt_consolidation  19776  \n",
       "14                                 Debt Consolidation   2259  \n",
       "15                                              100xx    649  \n",
       "16                                                 CA   7429  \n",
       "17                                           Oct-1999    393  \n",
       "18                                                 0%   1070  \n",
       "20                                           Mar-2013   1070  \n",
       "22                                           Jul-2016  12148  "
      ]
     },
     "execution_count": 12,
     "metadata": {},
     "output_type": "execute_result"
    }
   ],
   "source": [
    "## Double check discrete\n",
    "discrete"
   ]
  },
  {
   "cell_type": "code",
   "execution_count": 13,
   "metadata": {
    "collapsed": false
   },
   "outputs": [],
   "source": [
    "## Discrete remove\n",
    "data = data.drop(['grade','sub_grade','int_rate','emp_title','issue_d','pymnt_plan','url','desc','title','earliest_cr_line','last_pymnt_d','last_credit_pull_d'],axis=1)"
   ]
  },
  {
   "cell_type": "code",
   "execution_count": 14,
   "metadata": {
    "collapsed": false
   },
   "outputs": [
    {
     "data": {
      "text/html": [
       "<div>\n",
       "<table border=\"1\" class=\"dataframe\">\n",
       "  <thead>\n",
       "    <tr style=\"text-align: right;\">\n",
       "      <th></th>\n",
       "      <th>feature</th>\n",
       "      <th>missing</th>\n",
       "      <th>count</th>\n",
       "      <th>mean</th>\n",
       "      <th>std</th>\n",
       "      <th>min</th>\n",
       "      <th>25%</th>\n",
       "      <th>50%</th>\n",
       "      <th>75%</th>\n",
       "      <th>max</th>\n",
       "    </tr>\n",
       "  </thead>\n",
       "  <tbody>\n",
       "    <tr>\n",
       "      <th>0</th>\n",
       "      <td>id</td>\n",
       "      <td>0.000000</td>\n",
       "      <td>42535.0</td>\n",
       "      <td>664579.852310</td>\n",
       "      <td>219302.219319</td>\n",
       "      <td>54734.00</td>\n",
       "      <td>498392.500000</td>\n",
       "      <td>644250.000000</td>\n",
       "      <td>8.258225e+05</td>\n",
       "      <td>1.077501e+06</td>\n",
       "    </tr>\n",
       "    <tr>\n",
       "      <th>1</th>\n",
       "      <td>member_id</td>\n",
       "      <td>0.000000</td>\n",
       "      <td>42535.0</td>\n",
       "      <td>825702.551170</td>\n",
       "      <td>279540.905635</td>\n",
       "      <td>70473.00</td>\n",
       "      <td>638479.500000</td>\n",
       "      <td>824178.000000</td>\n",
       "      <td>1.033946e+06</td>\n",
       "      <td>1.314167e+06</td>\n",
       "    </tr>\n",
       "    <tr>\n",
       "      <th>2</th>\n",
       "      <td>loan_amnt</td>\n",
       "      <td>0.000000</td>\n",
       "      <td>42535.0</td>\n",
       "      <td>11089.722581</td>\n",
       "      <td>7410.938391</td>\n",
       "      <td>500.00</td>\n",
       "      <td>5200.000000</td>\n",
       "      <td>9700.000000</td>\n",
       "      <td>1.500000e+04</td>\n",
       "      <td>3.500000e+04</td>\n",
       "    </tr>\n",
       "    <tr>\n",
       "      <th>3</th>\n",
       "      <td>funded_amnt</td>\n",
       "      <td>0.000000</td>\n",
       "      <td>42535.0</td>\n",
       "      <td>10821.585753</td>\n",
       "      <td>7146.914675</td>\n",
       "      <td>500.00</td>\n",
       "      <td>5000.000000</td>\n",
       "      <td>9600.000000</td>\n",
       "      <td>1.500000e+04</td>\n",
       "      <td>3.500000e+04</td>\n",
       "    </tr>\n",
       "    <tr>\n",
       "      <th>4</th>\n",
       "      <td>funded_amnt_inv</td>\n",
       "      <td>0.000000</td>\n",
       "      <td>42535.0</td>\n",
       "      <td>10139.830603</td>\n",
       "      <td>7131.686446</td>\n",
       "      <td>0.00</td>\n",
       "      <td>4950.000000</td>\n",
       "      <td>8500.000000</td>\n",
       "      <td>1.400000e+04</td>\n",
       "      <td>3.500000e+04</td>\n",
       "    </tr>\n",
       "    <tr>\n",
       "      <th>5</th>\n",
       "      <td>installment</td>\n",
       "      <td>0.000000</td>\n",
       "      <td>42535.0</td>\n",
       "      <td>322.623063</td>\n",
       "      <td>208.927216</td>\n",
       "      <td>15.67</td>\n",
       "      <td>165.520000</td>\n",
       "      <td>277.690000</td>\n",
       "      <td>4.281800e+02</td>\n",
       "      <td>1.305190e+03</td>\n",
       "    </tr>\n",
       "    <tr>\n",
       "      <th>6</th>\n",
       "      <td>annual_inc</td>\n",
       "      <td>0.000094</td>\n",
       "      <td>42531.0</td>\n",
       "      <td>69136.556420</td>\n",
       "      <td>64096.349719</td>\n",
       "      <td>1896.00</td>\n",
       "      <td>NaN</td>\n",
       "      <td>NaN</td>\n",
       "      <td>NaN</td>\n",
       "      <td>6.000000e+06</td>\n",
       "    </tr>\n",
       "    <tr>\n",
       "      <th>7</th>\n",
       "      <td>dti</td>\n",
       "      <td>0.000000</td>\n",
       "      <td>42535.0</td>\n",
       "      <td>13.373043</td>\n",
       "      <td>6.726315</td>\n",
       "      <td>0.00</td>\n",
       "      <td>8.200000</td>\n",
       "      <td>13.470000</td>\n",
       "      <td>1.868000e+01</td>\n",
       "      <td>2.999000e+01</td>\n",
       "    </tr>\n",
       "    <tr>\n",
       "      <th>8</th>\n",
       "      <td>delinq_2yrs</td>\n",
       "      <td>0.000682</td>\n",
       "      <td>42506.0</td>\n",
       "      <td>0.152449</td>\n",
       "      <td>0.512406</td>\n",
       "      <td>0.00</td>\n",
       "      <td>NaN</td>\n",
       "      <td>NaN</td>\n",
       "      <td>NaN</td>\n",
       "      <td>1.300000e+01</td>\n",
       "    </tr>\n",
       "    <tr>\n",
       "      <th>9</th>\n",
       "      <td>inq_last_6mths</td>\n",
       "      <td>0.000682</td>\n",
       "      <td>42506.0</td>\n",
       "      <td>1.081424</td>\n",
       "      <td>1.527455</td>\n",
       "      <td>0.00</td>\n",
       "      <td>NaN</td>\n",
       "      <td>NaN</td>\n",
       "      <td>NaN</td>\n",
       "      <td>3.300000e+01</td>\n",
       "    </tr>\n",
       "    <tr>\n",
       "      <th>10</th>\n",
       "      <td>mths_since_last_delinq</td>\n",
       "      <td>0.633032</td>\n",
       "      <td>15609.0</td>\n",
       "      <td>35.017618</td>\n",
       "      <td>22.418427</td>\n",
       "      <td>0.00</td>\n",
       "      <td>NaN</td>\n",
       "      <td>NaN</td>\n",
       "      <td>NaN</td>\n",
       "      <td>1.200000e+02</td>\n",
       "    </tr>\n",
       "    <tr>\n",
       "      <th>11</th>\n",
       "      <td>mths_since_last_record</td>\n",
       "      <td>0.914165</td>\n",
       "      <td>3651.0</td>\n",
       "      <td>59.175568</td>\n",
       "      <td>47.145396</td>\n",
       "      <td>0.00</td>\n",
       "      <td>NaN</td>\n",
       "      <td>NaN</td>\n",
       "      <td>NaN</td>\n",
       "      <td>1.290000e+02</td>\n",
       "    </tr>\n",
       "    <tr>\n",
       "      <th>12</th>\n",
       "      <td>open_acc</td>\n",
       "      <td>0.000682</td>\n",
       "      <td>42506.0</td>\n",
       "      <td>9.343951</td>\n",
       "      <td>4.496274</td>\n",
       "      <td>1.00</td>\n",
       "      <td>NaN</td>\n",
       "      <td>NaN</td>\n",
       "      <td>NaN</td>\n",
       "      <td>4.700000e+01</td>\n",
       "    </tr>\n",
       "    <tr>\n",
       "      <th>13</th>\n",
       "      <td>pub_rec</td>\n",
       "      <td>0.000682</td>\n",
       "      <td>42506.0</td>\n",
       "      <td>0.058156</td>\n",
       "      <td>0.245713</td>\n",
       "      <td>0.00</td>\n",
       "      <td>NaN</td>\n",
       "      <td>NaN</td>\n",
       "      <td>NaN</td>\n",
       "      <td>5.000000e+00</td>\n",
       "    </tr>\n",
       "    <tr>\n",
       "      <th>14</th>\n",
       "      <td>revol_bal</td>\n",
       "      <td>0.000000</td>\n",
       "      <td>42535.0</td>\n",
       "      <td>14297.860915</td>\n",
       "      <td>22018.441010</td>\n",
       "      <td>0.00</td>\n",
       "      <td>3635.000000</td>\n",
       "      <td>8821.000000</td>\n",
       "      <td>1.725100e+04</td>\n",
       "      <td>1.207359e+06</td>\n",
       "    </tr>\n",
       "    <tr>\n",
       "      <th>15</th>\n",
       "      <td>total_acc</td>\n",
       "      <td>0.000682</td>\n",
       "      <td>42506.0</td>\n",
       "      <td>22.124406</td>\n",
       "      <td>11.592811</td>\n",
       "      <td>1.00</td>\n",
       "      <td>NaN</td>\n",
       "      <td>NaN</td>\n",
       "      <td>NaN</td>\n",
       "      <td>9.000000e+01</td>\n",
       "    </tr>\n",
       "    <tr>\n",
       "      <th>16</th>\n",
       "      <td>out_prncp</td>\n",
       "      <td>0.000000</td>\n",
       "      <td>42535.0</td>\n",
       "      <td>25.472444</td>\n",
       "      <td>223.744447</td>\n",
       "      <td>0.00</td>\n",
       "      <td>0.000000</td>\n",
       "      <td>0.000000</td>\n",
       "      <td>0.000000e+00</td>\n",
       "      <td>5.413850e+03</td>\n",
       "    </tr>\n",
       "    <tr>\n",
       "      <th>17</th>\n",
       "      <td>out_prncp_inv</td>\n",
       "      <td>0.000000</td>\n",
       "      <td>42535.0</td>\n",
       "      <td>25.385284</td>\n",
       "      <td>223.112720</td>\n",
       "      <td>0.00</td>\n",
       "      <td>0.000000</td>\n",
       "      <td>0.000000</td>\n",
       "      <td>0.000000e+00</td>\n",
       "      <td>5.413850e+03</td>\n",
       "    </tr>\n",
       "    <tr>\n",
       "      <th>18</th>\n",
       "      <td>total_pymnt</td>\n",
       "      <td>0.000000</td>\n",
       "      <td>42535.0</td>\n",
       "      <td>11991.651367</td>\n",
       "      <td>9039.894478</td>\n",
       "      <td>0.00</td>\n",
       "      <td>5462.497612</td>\n",
       "      <td>9676.797617</td>\n",
       "      <td>1.640147e+04</td>\n",
       "      <td>5.856368e+04</td>\n",
       "    </tr>\n",
       "    <tr>\n",
       "      <th>19</th>\n",
       "      <td>total_pymnt_inv</td>\n",
       "      <td>0.000000</td>\n",
       "      <td>42535.0</td>\n",
       "      <td>11284.657299</td>\n",
       "      <td>8982.157193</td>\n",
       "      <td>0.00</td>\n",
       "      <td>4790.805000</td>\n",
       "      <td>8950.840000</td>\n",
       "      <td>1.550270e+04</td>\n",
       "      <td>5.856368e+04</td>\n",
       "    </tr>\n",
       "    <tr>\n",
       "      <th>20</th>\n",
       "      <td>total_rec_prncp</td>\n",
       "      <td>0.000000</td>\n",
       "      <td>42535.0</td>\n",
       "      <td>9651.186005</td>\n",
       "      <td>7068.339920</td>\n",
       "      <td>0.00</td>\n",
       "      <td>4400.000000</td>\n",
       "      <td>8000.000000</td>\n",
       "      <td>1.333045e+04</td>\n",
       "      <td>3.500002e+04</td>\n",
       "    </tr>\n",
       "    <tr>\n",
       "      <th>21</th>\n",
       "      <td>total_rec_int</td>\n",
       "      <td>0.000000</td>\n",
       "      <td>42535.0</td>\n",
       "      <td>2238.964637</td>\n",
       "      <td>2581.919438</td>\n",
       "      <td>0.00</td>\n",
       "      <td>657.100000</td>\n",
       "      <td>1339.160000</td>\n",
       "      <td>2.802945e+03</td>\n",
       "      <td>2.369902e+04</td>\n",
       "    </tr>\n",
       "    <tr>\n",
       "      <th>22</th>\n",
       "      <td>total_rec_late_fee</td>\n",
       "      <td>0.000000</td>\n",
       "      <td>42535.0</td>\n",
       "      <td>1.511902</td>\n",
       "      <td>7.818593</td>\n",
       "      <td>0.00</td>\n",
       "      <td>0.000000</td>\n",
       "      <td>0.000000</td>\n",
       "      <td>0.000000e+00</td>\n",
       "      <td>2.090000e+02</td>\n",
       "    </tr>\n",
       "    <tr>\n",
       "      <th>23</th>\n",
       "      <td>recoveries</td>\n",
       "      <td>0.000000</td>\n",
       "      <td>42535.0</td>\n",
       "      <td>99.988914</td>\n",
       "      <td>716.814935</td>\n",
       "      <td>0.00</td>\n",
       "      <td>0.000000</td>\n",
       "      <td>0.000000</td>\n",
       "      <td>0.000000e+00</td>\n",
       "      <td>2.962335e+04</td>\n",
       "    </tr>\n",
       "    <tr>\n",
       "      <th>24</th>\n",
       "      <td>collection_recovery_fee</td>\n",
       "      <td>0.000000</td>\n",
       "      <td>42535.0</td>\n",
       "      <td>13.899371</td>\n",
       "      <td>159.443877</td>\n",
       "      <td>0.00</td>\n",
       "      <td>0.000000</td>\n",
       "      <td>0.000000</td>\n",
       "      <td>0.000000e+00</td>\n",
       "      <td>7.002190e+03</td>\n",
       "    </tr>\n",
       "    <tr>\n",
       "      <th>25</th>\n",
       "      <td>last_pymnt_amnt</td>\n",
       "      <td>0.000000</td>\n",
       "      <td>42535.0</td>\n",
       "      <td>2611.809119</td>\n",
       "      <td>4385.415780</td>\n",
       "      <td>0.00</td>\n",
       "      <td>211.460000</td>\n",
       "      <td>527.320000</td>\n",
       "      <td>3.167855e+03</td>\n",
       "      <td>3.611520e+04</td>\n",
       "    </tr>\n",
       "    <tr>\n",
       "      <th>32</th>\n",
       "      <td>acc_now_delinq</td>\n",
       "      <td>0.000682</td>\n",
       "      <td>42506.0</td>\n",
       "      <td>0.000094</td>\n",
       "      <td>0.009700</td>\n",
       "      <td>0.00</td>\n",
       "      <td>NaN</td>\n",
       "      <td>NaN</td>\n",
       "      <td>NaN</td>\n",
       "      <td>1.000000e+00</td>\n",
       "    </tr>\n",
       "    <tr>\n",
       "      <th>55</th>\n",
       "      <td>delinq_amnt</td>\n",
       "      <td>0.000682</td>\n",
       "      <td>42506.0</td>\n",
       "      <td>0.143039</td>\n",
       "      <td>29.359579</td>\n",
       "      <td>0.00</td>\n",
       "      <td>NaN</td>\n",
       "      <td>NaN</td>\n",
       "      <td>NaN</td>\n",
       "      <td>6.053000e+03</td>\n",
       "    </tr>\n",
       "    <tr>\n",
       "      <th>81</th>\n",
       "      <td>pub_rec_bankruptcies</td>\n",
       "      <td>0.032091</td>\n",
       "      <td>41170.0</td>\n",
       "      <td>0.045227</td>\n",
       "      <td>0.208737</td>\n",
       "      <td>0.00</td>\n",
       "      <td>NaN</td>\n",
       "      <td>NaN</td>\n",
       "      <td>NaN</td>\n",
       "      <td>2.000000e+00</td>\n",
       "    </tr>\n",
       "    <tr>\n",
       "      <th>82</th>\n",
       "      <td>tax_liens</td>\n",
       "      <td>0.002469</td>\n",
       "      <td>42430.0</td>\n",
       "      <td>0.000024</td>\n",
       "      <td>0.004855</td>\n",
       "      <td>0.00</td>\n",
       "      <td>NaN</td>\n",
       "      <td>NaN</td>\n",
       "      <td>NaN</td>\n",
       "      <td>1.000000e+00</td>\n",
       "    </tr>\n",
       "  </tbody>\n",
       "</table>\n",
       "</div>"
      ],
      "text/plain": [
       "                    feature   missing    count           mean            std  \\\n",
       "0                        id  0.000000  42535.0  664579.852310  219302.219319   \n",
       "1                 member_id  0.000000  42535.0  825702.551170  279540.905635   \n",
       "2                 loan_amnt  0.000000  42535.0   11089.722581    7410.938391   \n",
       "3               funded_amnt  0.000000  42535.0   10821.585753    7146.914675   \n",
       "4           funded_amnt_inv  0.000000  42535.0   10139.830603    7131.686446   \n",
       "5               installment  0.000000  42535.0     322.623063     208.927216   \n",
       "6                annual_inc  0.000094  42531.0   69136.556420   64096.349719   \n",
       "7                       dti  0.000000  42535.0      13.373043       6.726315   \n",
       "8               delinq_2yrs  0.000682  42506.0       0.152449       0.512406   \n",
       "9            inq_last_6mths  0.000682  42506.0       1.081424       1.527455   \n",
       "10   mths_since_last_delinq  0.633032  15609.0      35.017618      22.418427   \n",
       "11   mths_since_last_record  0.914165   3651.0      59.175568      47.145396   \n",
       "12                 open_acc  0.000682  42506.0       9.343951       4.496274   \n",
       "13                  pub_rec  0.000682  42506.0       0.058156       0.245713   \n",
       "14                revol_bal  0.000000  42535.0   14297.860915   22018.441010   \n",
       "15                total_acc  0.000682  42506.0      22.124406      11.592811   \n",
       "16                out_prncp  0.000000  42535.0      25.472444     223.744447   \n",
       "17            out_prncp_inv  0.000000  42535.0      25.385284     223.112720   \n",
       "18              total_pymnt  0.000000  42535.0   11991.651367    9039.894478   \n",
       "19          total_pymnt_inv  0.000000  42535.0   11284.657299    8982.157193   \n",
       "20          total_rec_prncp  0.000000  42535.0    9651.186005    7068.339920   \n",
       "21            total_rec_int  0.000000  42535.0    2238.964637    2581.919438   \n",
       "22       total_rec_late_fee  0.000000  42535.0       1.511902       7.818593   \n",
       "23               recoveries  0.000000  42535.0      99.988914     716.814935   \n",
       "24  collection_recovery_fee  0.000000  42535.0      13.899371     159.443877   \n",
       "25          last_pymnt_amnt  0.000000  42535.0    2611.809119    4385.415780   \n",
       "32           acc_now_delinq  0.000682  42506.0       0.000094       0.009700   \n",
       "55              delinq_amnt  0.000682  42506.0       0.143039      29.359579   \n",
       "81     pub_rec_bankruptcies  0.032091  41170.0       0.045227       0.208737   \n",
       "82                tax_liens  0.002469  42430.0       0.000024       0.004855   \n",
       "\n",
       "         min            25%            50%           75%           max  \n",
       "0   54734.00  498392.500000  644250.000000  8.258225e+05  1.077501e+06  \n",
       "1   70473.00  638479.500000  824178.000000  1.033946e+06  1.314167e+06  \n",
       "2     500.00    5200.000000    9700.000000  1.500000e+04  3.500000e+04  \n",
       "3     500.00    5000.000000    9600.000000  1.500000e+04  3.500000e+04  \n",
       "4       0.00    4950.000000    8500.000000  1.400000e+04  3.500000e+04  \n",
       "5      15.67     165.520000     277.690000  4.281800e+02  1.305190e+03  \n",
       "6    1896.00            NaN            NaN           NaN  6.000000e+06  \n",
       "7       0.00       8.200000      13.470000  1.868000e+01  2.999000e+01  \n",
       "8       0.00            NaN            NaN           NaN  1.300000e+01  \n",
       "9       0.00            NaN            NaN           NaN  3.300000e+01  \n",
       "10      0.00            NaN            NaN           NaN  1.200000e+02  \n",
       "11      0.00            NaN            NaN           NaN  1.290000e+02  \n",
       "12      1.00            NaN            NaN           NaN  4.700000e+01  \n",
       "13      0.00            NaN            NaN           NaN  5.000000e+00  \n",
       "14      0.00    3635.000000    8821.000000  1.725100e+04  1.207359e+06  \n",
       "15      1.00            NaN            NaN           NaN  9.000000e+01  \n",
       "16      0.00       0.000000       0.000000  0.000000e+00  5.413850e+03  \n",
       "17      0.00       0.000000       0.000000  0.000000e+00  5.413850e+03  \n",
       "18      0.00    5462.497612    9676.797617  1.640147e+04  5.856368e+04  \n",
       "19      0.00    4790.805000    8950.840000  1.550270e+04  5.856368e+04  \n",
       "20      0.00    4400.000000    8000.000000  1.333045e+04  3.500002e+04  \n",
       "21      0.00     657.100000    1339.160000  2.802945e+03  2.369902e+04  \n",
       "22      0.00       0.000000       0.000000  0.000000e+00  2.090000e+02  \n",
       "23      0.00       0.000000       0.000000  0.000000e+00  2.962335e+04  \n",
       "24      0.00       0.000000       0.000000  0.000000e+00  7.002190e+03  \n",
       "25      0.00     211.460000     527.320000  3.167855e+03  3.611520e+04  \n",
       "32      0.00            NaN            NaN           NaN  1.000000e+00  \n",
       "55      0.00            NaN            NaN           NaN  6.053000e+03  \n",
       "81      0.00            NaN            NaN           NaN  2.000000e+00  \n",
       "82      0.00            NaN            NaN           NaN  1.000000e+00  "
      ]
     },
     "execution_count": 14,
     "metadata": {},
     "output_type": "execute_result"
    }
   ],
   "source": [
    "## Check numeric\n",
    "numeric"
   ]
  },
  {
   "cell_type": "code",
   "execution_count": 15,
   "metadata": {
    "collapsed": false
   },
   "outputs": [],
   "source": [
    "data = data.drop(['id','member_id'],axis=1)"
   ]
  },
  {
   "cell_type": "code",
   "execution_count": 16,
   "metadata": {
    "collapsed": false
   },
   "outputs": [
    {
     "data": {
      "text/plain": [
       "(42535, 37)"
      ]
     },
     "execution_count": 16,
     "metadata": {},
     "output_type": "execute_result"
    }
   ],
   "source": [
    "data.shape"
   ]
  },
  {
   "cell_type": "code",
   "execution_count": 17,
   "metadata": {
    "collapsed": false
   },
   "outputs": [],
   "source": [
    "## Keep only those loan statuses where fully paid or charged off\n",
    "data = data[data['loan_status'].isin(['Fully Paid','Charged Off'])]"
   ]
  },
  {
   "cell_type": "code",
   "execution_count": 18,
   "metadata": {
    "collapsed": false
   },
   "outputs": [],
   "source": [
    "sparse_cols = ['delinq_2yrs', 'inq_last_6mths', 'mths_since_last_delinq', 'mths_since_last_record', 'open_acc', 'pub_rec',\n",
    "          'total_acc','out_prncp','out_prncp_inv','total_rec_late_fee','recoveries','collection_recovery_fee', \n",
    "          'acc_now_delinq','delinq_amnt','pub_rec_bankruptcies', 'tax_liens']"
   ]
  },
  {
   "cell_type": "code",
   "execution_count": 19,
   "metadata": {
    "collapsed": false
   },
   "outputs": [],
   "source": [
    "discrete_cols = ['term','emp_length','home_ownership','verification_status', 'purpose', \n",
    "            'zip_code', 'addr_state']\n"
   ]
  },
  {
   "cell_type": "code",
   "execution_count": 20,
   "metadata": {
    "collapsed": false
   },
   "outputs": [],
   "source": [
    "numeric_cols = [x for x in data.columns if x not in sparse_cols + discrete_cols + ['loan_status']]"
   ]
  },
  {
   "cell_type": "code",
   "execution_count": 21,
   "metadata": {
    "collapsed": false
   },
   "outputs": [],
   "source": [
    "## Address by stripping leading space\n",
    "data['term'] = data['term'].str.strip()"
   ]
  },
  {
   "cell_type": "code",
   "execution_count": 22,
   "metadata": {
    "collapsed": false
   },
   "outputs": [],
   "source": [
    "## Scikit learn estimators require numeric features\n",
    "term_map = {'36 months':0,'60 months':1}\n",
    "emp_map = {'n/a':0,'< 1 year':1,'1 year':2,'2 years':3,'3 years':4,'4 years':5,'5 years':6,'6 years':7,'7 years':8,'8 years':9,\n",
    "           '9 years':10, '10 years':11}\n",
    "status_map = {'Fully Paid':0,'Charged Off':1}"
   ]
  },
  {
   "cell_type": "code",
   "execution_count": 23,
   "metadata": {
    "collapsed": false
   },
   "outputs": [],
   "source": [
    "## Convert categorical features to numeric using mapping function\n",
    "data['term'] = data['term'].map(term_map)\n",
    "data['emp_length'] = data['emp_length'].map(emp_map)\n",
    "data['loan_status'] = data['loan_status'].map(status_map)"
   ]
  },
  {
   "cell_type": "code",
   "execution_count": 24,
   "metadata": {
    "collapsed": false
   },
   "outputs": [],
   "source": [
    "data['emp_length'].fillna(0.0, inplace=True)"
   ]
  },
  {
   "cell_type": "code",
   "execution_count": 25,
   "metadata": {
    "collapsed": false
   },
   "outputs": [],
   "source": [
    "## Leverage regular expressions to clean revol_util and int_rate\n",
    "data['revol_util'].replace('%','',regex=True,inplace=True)"
   ]
  },
  {
   "cell_type": "code",
   "execution_count": 26,
   "metadata": {
    "collapsed": false
   },
   "outputs": [],
   "source": [
    "## Convert revol_util to numeric \n",
    "data['revol_util'] = p.to_numeric(data['revol_util'])"
   ]
  },
  {
   "cell_type": "code",
   "execution_count": 27,
   "metadata": {
    "collapsed": true
   },
   "outputs": [],
   "source": [
    "data['revol_util'].fillna(0.0, inplace=True)"
   ]
  },
  {
   "cell_type": "code",
   "execution_count": 28,
   "metadata": {
    "collapsed": true
   },
   "outputs": [],
   "source": [
    "validation = data.sample(frac=.2,random_state=12345)\n",
    "val_x = validation.drop('loan_status',axis=1)\n",
    "val_y = validation['loan_status'].as_matrix()"
   ]
  },
  {
   "cell_type": "code",
   "execution_count": 29,
   "metadata": {
    "collapsed": false
   },
   "outputs": [],
   "source": [
    "new_data = data.drop(validation.index,axis=0)"
   ]
  },
  {
   "cell_type": "code",
   "execution_count": 30,
   "metadata": {
    "collapsed": false
   },
   "outputs": [],
   "source": [
    "## Seperate input features from target feature\n",
    "x = new_data.drop('loan_status',axis=1)\n",
    "y = new_data['loan_status'].as_matrix()"
   ]
  },
  {
   "cell_type": "code",
   "execution_count": 31,
   "metadata": {
    "collapsed": false
   },
   "outputs": [
    {
     "data": {
      "text/html": [
       "<div>\n",
       "<table border=\"1\" class=\"dataframe\">\n",
       "  <thead>\n",
       "    <tr style=\"text-align: right;\">\n",
       "      <th></th>\n",
       "      <th>loan_amnt</th>\n",
       "      <th>funded_amnt</th>\n",
       "      <th>funded_amnt_inv</th>\n",
       "      <th>term</th>\n",
       "      <th>installment</th>\n",
       "      <th>emp_length</th>\n",
       "      <th>home_ownership</th>\n",
       "      <th>annual_inc</th>\n",
       "      <th>verification_status</th>\n",
       "      <th>purpose</th>\n",
       "      <th>...</th>\n",
       "      <th>total_rec_prncp</th>\n",
       "      <th>total_rec_int</th>\n",
       "      <th>total_rec_late_fee</th>\n",
       "      <th>recoveries</th>\n",
       "      <th>collection_recovery_fee</th>\n",
       "      <th>last_pymnt_amnt</th>\n",
       "      <th>acc_now_delinq</th>\n",
       "      <th>delinq_amnt</th>\n",
       "      <th>pub_rec_bankruptcies</th>\n",
       "      <th>tax_liens</th>\n",
       "    </tr>\n",
       "  </thead>\n",
       "  <tbody>\n",
       "    <tr>\n",
       "      <th>0</th>\n",
       "      <td>5000</td>\n",
       "      <td>5000</td>\n",
       "      <td>4975.0</td>\n",
       "      <td>0</td>\n",
       "      <td>162.87</td>\n",
       "      <td>0.0</td>\n",
       "      <td>RENT</td>\n",
       "      <td>24000.0</td>\n",
       "      <td>Verified</td>\n",
       "      <td>credit_card</td>\n",
       "      <td>...</td>\n",
       "      <td>5000.0</td>\n",
       "      <td>863.16</td>\n",
       "      <td>0.00</td>\n",
       "      <td>0.0</td>\n",
       "      <td>0.0</td>\n",
       "      <td>171.62</td>\n",
       "      <td>0.0</td>\n",
       "      <td>0.0</td>\n",
       "      <td>0.0</td>\n",
       "      <td>0.0</td>\n",
       "    </tr>\n",
       "    <tr>\n",
       "      <th>2</th>\n",
       "      <td>2400</td>\n",
       "      <td>2400</td>\n",
       "      <td>2400.0</td>\n",
       "      <td>0</td>\n",
       "      <td>84.33</td>\n",
       "      <td>0.0</td>\n",
       "      <td>RENT</td>\n",
       "      <td>12252.0</td>\n",
       "      <td>Not Verified</td>\n",
       "      <td>small_business</td>\n",
       "      <td>...</td>\n",
       "      <td>2400.0</td>\n",
       "      <td>605.67</td>\n",
       "      <td>0.00</td>\n",
       "      <td>0.0</td>\n",
       "      <td>0.0</td>\n",
       "      <td>649.91</td>\n",
       "      <td>0.0</td>\n",
       "      <td>0.0</td>\n",
       "      <td>0.0</td>\n",
       "      <td>0.0</td>\n",
       "    </tr>\n",
       "    <tr>\n",
       "      <th>3</th>\n",
       "      <td>10000</td>\n",
       "      <td>10000</td>\n",
       "      <td>10000.0</td>\n",
       "      <td>0</td>\n",
       "      <td>339.31</td>\n",
       "      <td>0.0</td>\n",
       "      <td>RENT</td>\n",
       "      <td>49200.0</td>\n",
       "      <td>Source Verified</td>\n",
       "      <td>other</td>\n",
       "      <td>...</td>\n",
       "      <td>10000.0</td>\n",
       "      <td>2214.92</td>\n",
       "      <td>16.97</td>\n",
       "      <td>0.0</td>\n",
       "      <td>0.0</td>\n",
       "      <td>357.48</td>\n",
       "      <td>0.0</td>\n",
       "      <td>0.0</td>\n",
       "      <td>0.0</td>\n",
       "      <td>0.0</td>\n",
       "    </tr>\n",
       "    <tr>\n",
       "      <th>5</th>\n",
       "      <td>5000</td>\n",
       "      <td>5000</td>\n",
       "      <td>5000.0</td>\n",
       "      <td>0</td>\n",
       "      <td>156.46</td>\n",
       "      <td>4.0</td>\n",
       "      <td>RENT</td>\n",
       "      <td>36000.0</td>\n",
       "      <td>Source Verified</td>\n",
       "      <td>wedding</td>\n",
       "      <td>...</td>\n",
       "      <td>5000.0</td>\n",
       "      <td>632.21</td>\n",
       "      <td>0.00</td>\n",
       "      <td>0.0</td>\n",
       "      <td>0.0</td>\n",
       "      <td>161.03</td>\n",
       "      <td>0.0</td>\n",
       "      <td>0.0</td>\n",
       "      <td>0.0</td>\n",
       "      <td>0.0</td>\n",
       "    </tr>\n",
       "    <tr>\n",
       "      <th>7</th>\n",
       "      <td>3000</td>\n",
       "      <td>3000</td>\n",
       "      <td>3000.0</td>\n",
       "      <td>0</td>\n",
       "      <td>109.43</td>\n",
       "      <td>10.0</td>\n",
       "      <td>RENT</td>\n",
       "      <td>48000.0</td>\n",
       "      <td>Source Verified</td>\n",
       "      <td>car</td>\n",
       "      <td>...</td>\n",
       "      <td>3000.0</td>\n",
       "      <td>939.14</td>\n",
       "      <td>0.00</td>\n",
       "      <td>0.0</td>\n",
       "      <td>0.0</td>\n",
       "      <td>111.34</td>\n",
       "      <td>0.0</td>\n",
       "      <td>0.0</td>\n",
       "      <td>0.0</td>\n",
       "      <td>0.0</td>\n",
       "    </tr>\n",
       "  </tbody>\n",
       "</table>\n",
       "<p>5 rows × 36 columns</p>\n",
       "</div>"
      ],
      "text/plain": [
       "   loan_amnt  funded_amnt  funded_amnt_inv  term  installment  emp_length  \\\n",
       "0       5000         5000           4975.0     0       162.87         0.0   \n",
       "2       2400         2400           2400.0     0        84.33         0.0   \n",
       "3      10000        10000          10000.0     0       339.31         0.0   \n",
       "5       5000         5000           5000.0     0       156.46         4.0   \n",
       "7       3000         3000           3000.0     0       109.43        10.0   \n",
       "\n",
       "  home_ownership  annual_inc verification_status         purpose    ...      \\\n",
       "0           RENT     24000.0            Verified     credit_card    ...       \n",
       "2           RENT     12252.0        Not Verified  small_business    ...       \n",
       "3           RENT     49200.0     Source Verified           other    ...       \n",
       "5           RENT     36000.0     Source Verified         wedding    ...       \n",
       "7           RENT     48000.0     Source Verified             car    ...       \n",
       "\n",
       "  total_rec_prncp total_rec_int  total_rec_late_fee  recoveries  \\\n",
       "0          5000.0        863.16                0.00         0.0   \n",
       "2          2400.0        605.67                0.00         0.0   \n",
       "3         10000.0       2214.92               16.97         0.0   \n",
       "5          5000.0        632.21                0.00         0.0   \n",
       "7          3000.0        939.14                0.00         0.0   \n",
       "\n",
       "   collection_recovery_fee  last_pymnt_amnt  acc_now_delinq  delinq_amnt  \\\n",
       "0                      0.0           171.62             0.0          0.0   \n",
       "2                      0.0           649.91             0.0          0.0   \n",
       "3                      0.0           357.48             0.0          0.0   \n",
       "5                      0.0           161.03             0.0          0.0   \n",
       "7                      0.0           111.34             0.0          0.0   \n",
       "\n",
       "   pub_rec_bankruptcies  tax_liens  \n",
       "0                   0.0        0.0  \n",
       "2                   0.0        0.0  \n",
       "3                   0.0        0.0  \n",
       "5                   0.0        0.0  \n",
       "7                   0.0        0.0  \n",
       "\n",
       "[5 rows x 36 columns]"
      ]
     },
     "execution_count": 31,
     "metadata": {},
     "output_type": "execute_result"
    }
   ],
   "source": [
    "## Take a look at x\n",
    "x.head()"
   ]
  },
  {
   "cell_type": "code",
   "execution_count": 32,
   "metadata": {
    "collapsed": false
   },
   "outputs": [
    {
     "data": {
      "text/plain": [
       "array([0, 0, 0, ..., 0, 0, 0], dtype=int64)"
      ]
     },
     "execution_count": 32,
     "metadata": {},
     "output_type": "execute_result"
    }
   ],
   "source": [
    "## Take a look at y\n",
    "y"
   ]
  },
  {
   "cell_type": "code",
   "execution_count": 33,
   "metadata": {
    "collapsed": false
   },
   "outputs": [],
   "source": [
    "## Split the data into training and test sets\n",
    "x_train, x_test, y_train, y_test = train_test_split(x,y,test_size=.3,random_state=15254)"
   ]
  },
  {
   "cell_type": "code",
   "execution_count": 34,
   "metadata": {
    "collapsed": false
   },
   "outputs": [],
   "source": [
    "## Impute missing cases using scikit learn\n",
    "imp = Imputer(missing_values='NaN',strategy='most_frequent',axis=0)\n",
    "for col in sparse_cols:\n",
    "    imp.fit(x_train[col].reshape(-1,1))\n",
    "    x_train[col] = imp.transform(x_train[col].reshape(-1,1))\n",
    "    x_test[col] = imp.transform(x_test[col].reshape(-1,1))\n",
    "    val_x[col] = imp.transform(val_x[col].reshape(-1,1))"
   ]
  },
  {
   "cell_type": "code",
   "execution_count": 35,
   "metadata": {
    "collapsed": false
   },
   "outputs": [],
   "source": [
    "mas = MaxAbsScaler()\n",
    "for col in sparse_cols:\n",
    "    mas.fit(x_train[col].reshape(-1,1))\n",
    "    x_train[col] = mas.transform(x_train[col].reshape(-1,1))\n",
    "    x_test[col] = mas.transform(x_test[col].reshape(-1,1))\n",
    "    val_x[col] = mas.transform(val_x[col].reshape(-1,1))"
   ]
  },
  {
   "cell_type": "code",
   "execution_count": 36,
   "metadata": {
    "collapsed": false
   },
   "outputs": [],
   "source": [
    "cols = ['home_ownership','verification_status','purpose','zip_code','addr_state']\n",
    "le = LabelEncoder()\n",
    "for col in cols:\n",
    "    le.fit(ravel(data[col]))\n",
    "    data[col] = le.transform(ravel(data[col]))\n",
    "    x_train[col] = le.transform(ravel(x_train[col]))\n",
    "    x_test[col] = le.transform(ravel(x_test[col]))\n",
    "    val_x[col] = le.transform(ravel(val_x[col]))"
   ]
  },
  {
   "cell_type": "code",
   "execution_count": 37,
   "metadata": {
    "collapsed": false
   },
   "outputs": [
    {
     "name": "stderr",
     "output_type": "stream",
     "text": [
      "C:\\Users\\avelkoski\\AppData\\Local\\Continuum\\Anaconda2\\lib\\site-packages\\sklearn\\utils\\validation.py:420: DataConversionWarning: Data with input dtype int64 was converted to float64 by StandardScaler.\n",
      "  warnings.warn(msg, DataConversionWarning)\n",
      "C:\\Users\\avelkoski\\AppData\\Local\\Continuum\\Anaconda2\\lib\\site-packages\\sklearn\\utils\\validation.py:420: DataConversionWarning: Data with input dtype int64 was converted to float64 by StandardScaler.\n",
      "  warnings.warn(msg, DataConversionWarning)\n",
      "C:\\Users\\avelkoski\\AppData\\Local\\Continuum\\Anaconda2\\lib\\site-packages\\sklearn\\utils\\validation.py:420: DataConversionWarning: Data with input dtype int64 was converted to float64 by StandardScaler.\n",
      "  warnings.warn(msg, DataConversionWarning)\n",
      "C:\\Users\\avelkoski\\AppData\\Local\\Continuum\\Anaconda2\\lib\\site-packages\\sklearn\\utils\\validation.py:420: DataConversionWarning: Data with input dtype int64 was converted to float64 by StandardScaler.\n",
      "  warnings.warn(msg, DataConversionWarning)\n",
      "C:\\Users\\avelkoski\\AppData\\Local\\Continuum\\Anaconda2\\lib\\site-packages\\sklearn\\utils\\validation.py:420: DataConversionWarning: Data with input dtype int64 was converted to float64 by StandardScaler.\n",
      "  warnings.warn(msg, DataConversionWarning)\n",
      "C:\\Users\\avelkoski\\AppData\\Local\\Continuum\\Anaconda2\\lib\\site-packages\\sklearn\\utils\\validation.py:420: DataConversionWarning: Data with input dtype int64 was converted to float64 by StandardScaler.\n",
      "  warnings.warn(msg, DataConversionWarning)\n",
      "C:\\Users\\avelkoski\\AppData\\Local\\Continuum\\Anaconda2\\lib\\site-packages\\sklearn\\utils\\validation.py:420: DataConversionWarning: Data with input dtype int64 was converted to float64 by StandardScaler.\n",
      "  warnings.warn(msg, DataConversionWarning)\n",
      "C:\\Users\\avelkoski\\AppData\\Local\\Continuum\\Anaconda2\\lib\\site-packages\\sklearn\\utils\\validation.py:420: DataConversionWarning: Data with input dtype int64 was converted to float64 by StandardScaler.\n",
      "  warnings.warn(msg, DataConversionWarning)\n"
     ]
    }
   ],
   "source": [
    "## Standard histograms with pandas\n",
    "rb=RobustScaler()\n",
    "st=StandardScaler()\n",
    "for col in numeric_cols:\n",
    "    if col in ['annual_inc','revol_bal']:\n",
    "        rb.fit(x_train[col].reshape(-1,1))\n",
    "        x_train[col] = rb.transform(x_train[col].reshape(-1,1))\n",
    "        x_test[col] = rb.transform(x_test[col].reshape(-1,1))\n",
    "        val_x[col] = rb.transform(val_x[col].reshape(-1,1))\n",
    "    else:\n",
    "        st.fit(x_train[col].reshape(-1,1))\n",
    "        x_train[col] = st.transform(x_train[col].reshape(-1,1))\n",
    "        x_test[col] = st.transform(x_test[col].reshape(-1,1))\n",
    "        val_x[col] = st.transform(val_x[col].reshape(-1,1))"
   ]
  },
  {
   "cell_type": "code",
   "execution_count": 38,
   "metadata": {
    "collapsed": false,
    "scrolled": true
   },
   "outputs": [
    {
     "data": {
      "text/html": [
       "<div>\n",
       "<table border=\"1\" class=\"dataframe\">\n",
       "  <thead>\n",
       "    <tr style=\"text-align: right;\">\n",
       "      <th></th>\n",
       "      <th>loan_amnt</th>\n",
       "      <th>funded_amnt</th>\n",
       "      <th>funded_amnt_inv</th>\n",
       "      <th>term</th>\n",
       "      <th>installment</th>\n",
       "      <th>emp_length</th>\n",
       "      <th>home_ownership</th>\n",
       "      <th>annual_inc</th>\n",
       "      <th>verification_status</th>\n",
       "      <th>purpose</th>\n",
       "      <th>...</th>\n",
       "      <th>total_rec_prncp</th>\n",
       "      <th>total_rec_int</th>\n",
       "      <th>total_rec_late_fee</th>\n",
       "      <th>recoveries</th>\n",
       "      <th>collection_recovery_fee</th>\n",
       "      <th>last_pymnt_amnt</th>\n",
       "      <th>acc_now_delinq</th>\n",
       "      <th>delinq_amnt</th>\n",
       "      <th>pub_rec_bankruptcies</th>\n",
       "      <th>tax_liens</th>\n",
       "    </tr>\n",
       "  </thead>\n",
       "  <tbody>\n",
       "    <tr>\n",
       "      <th>39604</th>\n",
       "      <td>0.526160</td>\n",
       "      <td>0.582997</td>\n",
       "      <td>-1.403175</td>\n",
       "      <td>0</td>\n",
       "      <td>0.778431</td>\n",
       "      <td>2.0</td>\n",
       "      <td>4</td>\n",
       "      <td>-0.209524</td>\n",
       "      <td>0</td>\n",
       "      <td>2</td>\n",
       "      <td>...</td>\n",
       "      <td>0.744848</td>\n",
       "      <td>0.132981</td>\n",
       "      <td>0.0</td>\n",
       "      <td>0.0</td>\n",
       "      <td>0.0</td>\n",
       "      <td>-0.498204</td>\n",
       "      <td>0.0</td>\n",
       "      <td>0.0</td>\n",
       "      <td>0.0</td>\n",
       "      <td>0.0</td>\n",
       "    </tr>\n",
       "    <tr>\n",
       "      <th>35537</th>\n",
       "      <td>-0.149733</td>\n",
       "      <td>-0.117829</td>\n",
       "      <td>-0.039121</td>\n",
       "      <td>0</td>\n",
       "      <td>0.103150</td>\n",
       "      <td>1.0</td>\n",
       "      <td>4</td>\n",
       "      <td>-0.685714</td>\n",
       "      <td>1</td>\n",
       "      <td>2</td>\n",
       "      <td>...</td>\n",
       "      <td>0.037794</td>\n",
       "      <td>-0.734830</td>\n",
       "      <td>0.0</td>\n",
       "      <td>0.0</td>\n",
       "      <td>0.0</td>\n",
       "      <td>-0.604938</td>\n",
       "      <td>0.0</td>\n",
       "      <td>0.0</td>\n",
       "      <td>0.0</td>\n",
       "      <td>0.0</td>\n",
       "    </tr>\n",
       "    <tr>\n",
       "      <th>6361</th>\n",
       "      <td>-1.095982</td>\n",
       "      <td>-1.098986</td>\n",
       "      <td>-1.028590</td>\n",
       "      <td>0</td>\n",
       "      <td>-1.053142</td>\n",
       "      <td>0.0</td>\n",
       "      <td>4</td>\n",
       "      <td>-0.066667</td>\n",
       "      <td>1</td>\n",
       "      <td>7</td>\n",
       "      <td>...</td>\n",
       "      <td>-0.952082</td>\n",
       "      <td>-0.596584</td>\n",
       "      <td>0.0</td>\n",
       "      <td>0.0</td>\n",
       "      <td>0.0</td>\n",
       "      <td>-0.536952</td>\n",
       "      <td>0.0</td>\n",
       "      <td>0.0</td>\n",
       "      <td>0.0</td>\n",
       "      <td>0.0</td>\n",
       "    </tr>\n",
       "    <tr>\n",
       "      <th>5124</th>\n",
       "      <td>1.202052</td>\n",
       "      <td>1.283822</td>\n",
       "      <td>1.374406</td>\n",
       "      <td>1</td>\n",
       "      <td>0.712208</td>\n",
       "      <td>6.0</td>\n",
       "      <td>0</td>\n",
       "      <td>-0.090476</td>\n",
       "      <td>1</td>\n",
       "      <td>4</td>\n",
       "      <td>...</td>\n",
       "      <td>1.451903</td>\n",
       "      <td>0.721944</td>\n",
       "      <td>0.0</td>\n",
       "      <td>0.0</td>\n",
       "      <td>0.0</td>\n",
       "      <td>2.904305</td>\n",
       "      <td>0.0</td>\n",
       "      <td>0.0</td>\n",
       "      <td>0.0</td>\n",
       "      <td>0.0</td>\n",
       "    </tr>\n",
       "    <tr>\n",
       "      <th>5027</th>\n",
       "      <td>-0.149733</td>\n",
       "      <td>-0.117829</td>\n",
       "      <td>-0.039121</td>\n",
       "      <td>0</td>\n",
       "      <td>-0.027000</td>\n",
       "      <td>7.0</td>\n",
       "      <td>0</td>\n",
       "      <td>0.028571</td>\n",
       "      <td>0</td>\n",
       "      <td>4</td>\n",
       "      <td>...</td>\n",
       "      <td>0.037794</td>\n",
       "      <td>-0.299891</td>\n",
       "      <td>0.0</td>\n",
       "      <td>0.0</td>\n",
       "      <td>0.0</td>\n",
       "      <td>-0.534943</td>\n",
       "      <td>0.0</td>\n",
       "      <td>0.0</td>\n",
       "      <td>0.0</td>\n",
       "      <td>0.0</td>\n",
       "    </tr>\n",
       "  </tbody>\n",
       "</table>\n",
       "<p>5 rows × 36 columns</p>\n",
       "</div>"
      ],
      "text/plain": [
       "       loan_amnt  funded_amnt  funded_amnt_inv  term  installment  emp_length  \\\n",
       "39604   0.526160     0.582997        -1.403175     0     0.778431         2.0   \n",
       "35537  -0.149733    -0.117829        -0.039121     0     0.103150         1.0   \n",
       "6361   -1.095982    -1.098986        -1.028590     0    -1.053142         0.0   \n",
       "5124    1.202052     1.283822         1.374406     1     0.712208         6.0   \n",
       "5027   -0.149733    -0.117829        -0.039121     0    -0.027000         7.0   \n",
       "\n",
       "       home_ownership  annual_inc  verification_status  purpose    ...      \\\n",
       "39604               4   -0.209524                    0        2    ...       \n",
       "35537               4   -0.685714                    1        2    ...       \n",
       "6361                4   -0.066667                    1        7    ...       \n",
       "5124                0   -0.090476                    1        4    ...       \n",
       "5027                0    0.028571                    0        4    ...       \n",
       "\n",
       "       total_rec_prncp  total_rec_int  total_rec_late_fee  recoveries  \\\n",
       "39604         0.744848       0.132981                 0.0         0.0   \n",
       "35537         0.037794      -0.734830                 0.0         0.0   \n",
       "6361         -0.952082      -0.596584                 0.0         0.0   \n",
       "5124          1.451903       0.721944                 0.0         0.0   \n",
       "5027          0.037794      -0.299891                 0.0         0.0   \n",
       "\n",
       "       collection_recovery_fee  last_pymnt_amnt  acc_now_delinq  delinq_amnt  \\\n",
       "39604                      0.0        -0.498204             0.0          0.0   \n",
       "35537                      0.0        -0.604938             0.0          0.0   \n",
       "6361                       0.0        -0.536952             0.0          0.0   \n",
       "5124                       0.0         2.904305             0.0          0.0   \n",
       "5027                       0.0        -0.534943             0.0          0.0   \n",
       "\n",
       "       pub_rec_bankruptcies  tax_liens  \n",
       "39604                   0.0        0.0  \n",
       "35537                   0.0        0.0  \n",
       "6361                    0.0        0.0  \n",
       "5124                    0.0        0.0  \n",
       "5027                    0.0        0.0  \n",
       "\n",
       "[5 rows x 36 columns]"
      ]
     },
     "execution_count": 38,
     "metadata": {},
     "output_type": "execute_result"
    }
   ],
   "source": [
    "x_train.head()"
   ]
  },
  {
   "cell_type": "code",
   "execution_count": 39,
   "metadata": {
    "collapsed": false
   },
   "outputs": [],
   "source": [
    "ohe = OneHotEncoder()\n",
    "ohe.fit(data.loc[:,discrete_cols])\n",
    "x_train_discrete = ohe.transform(x_train.loc[:,discrete_cols]).toarray()\n",
    "x_test_discrete = ohe.transform(x_test.loc[:,discrete_cols]).toarray()\n",
    "val_discrete = ohe.transform(val_x.loc[:,discrete_cols]).toarray()"
   ]
  },
  {
   "cell_type": "code",
   "execution_count": 40,
   "metadata": {
    "collapsed": false
   },
   "outputs": [
    {
     "data": {
      "text/plain": [
       "PCA(copy=True, n_components=5, whiten=False)"
      ]
     },
     "execution_count": 40,
     "metadata": {},
     "output_type": "execute_result"
    }
   ],
   "source": [
    "## Lets's try to extract components via PCA \n",
    "pca = PCA(n_components=5)\n",
    "pca.fit(x_train.loc[:,numeric_cols])"
   ]
  },
  {
   "cell_type": "code",
   "execution_count": 41,
   "metadata": {
    "collapsed": false
   },
   "outputs": [
    {
     "name": "stdout",
     "output_type": "stream",
     "text": [
      "['0.52', '0.15', '0.11', '0.06', '0.05']\n"
     ]
    }
   ],
   "source": [
    "## Percentage of variance explained by each of the selected components.\n",
    "print(['%0.2f' % z for z in pca.explained_variance_ratio_]) "
   ]
  },
  {
   "cell_type": "code",
   "execution_count": 42,
   "metadata": {
    "collapsed": true
   },
   "outputs": [],
   "source": [
    "## Transform x\n",
    "x_train_pca = pca.transform(x_train.loc[:,numeric_cols])\n",
    "x_test_pca = pca.transform(x_test.loc[:,numeric_cols])\n",
    "val_x_pca = pca.transform(val_x.loc[:,numeric_cols])"
   ]
  },
  {
   "cell_type": "code",
   "execution_count": 43,
   "metadata": {
    "collapsed": false
   },
   "outputs": [],
   "source": [
    "x_train_sparse = x_train.loc[:,sparse_cols].as_matrix()\n",
    "x_test_sparse = x_test.loc[:,sparse_cols].as_matrix()\n",
    "val_x_sparse = val_x.loc[:,sparse_cols].as_matrix()"
   ]
  },
  {
   "cell_type": "code",
   "execution_count": 44,
   "metadata": {
    "collapsed": false
   },
   "outputs": [],
   "source": [
    "x_train_final = hstack([x_train_pca,x_train_discrete,x_train_sparse])\n",
    "x_test_final = hstack([x_test_pca,x_test_discrete,x_test_sparse])\n",
    "val_x_final = hstack([val_x_pca,val_discrete,val_x_sparse])"
   ]
  },
  {
   "cell_type": "code",
   "execution_count": 45,
   "metadata": {
    "collapsed": false
   },
   "outputs": [
    {
     "name": "stdout",
     "output_type": "stream",
     "text": [
      "(21814L, 928L)\n",
      "(9349L, 928L)\n",
      "(7791L, 928L)\n"
     ]
    }
   ],
   "source": [
    "print x_train_final.shape\n",
    "print x_test_final.shape\n",
    "print val_x_final.shape"
   ]
  },
  {
   "cell_type": "code",
   "execution_count": 46,
   "metadata": {
    "collapsed": true
   },
   "outputs": [],
   "source": [
    "## Create estimator\n",
    "clf = DecisionTreeClassifier(class_weight='balanced',max_depth=3)"
   ]
  },
  {
   "cell_type": "code",
   "execution_count": 64,
   "metadata": {
    "collapsed": false
   },
   "outputs": [
    {
     "data": {
      "text/plain": [
       "DecisionTreeClassifier(class_weight='balanced', criterion='gini', max_depth=3,\n",
       "            max_features=None, max_leaf_nodes=None, min_samples_leaf=1,\n",
       "            min_samples_split=2, min_weight_fraction_leaf=0.0,\n",
       "            presort=False, random_state=None, splitter='best')"
      ]
     },
     "execution_count": 64,
     "metadata": {},
     "output_type": "execute_result"
    }
   ],
   "source": [
    "## Fit the model using training set \n",
    "clf.fit(x_train_final,y_train)"
   ]
  },
  {
   "cell_type": "code",
   "execution_count": 65,
   "metadata": {
    "collapsed": false,
    "scrolled": true
   },
   "outputs": [
    {
     "name": "stdout",
     "output_type": "stream",
     "text": [
      "0.96\n"
     ]
    }
   ],
   "source": [
    "## Check accuracy score\n",
    "print '%0.2f' % clf.score(x_test_final,y_test)"
   ]
  },
  {
   "cell_type": "code",
   "execution_count": 66,
   "metadata": {
    "collapsed": false
   },
   "outputs": [],
   "source": [
    "## Predict y given test set\n",
    "predictions = clf.predict(x_test_final)"
   ]
  },
  {
   "cell_type": "code",
   "execution_count": 67,
   "metadata": {
    "collapsed": false
   },
   "outputs": [
    {
     "data": {
      "text/plain": [
       "array([[7922,   65],\n",
       "       [ 331, 1031]])"
      ]
     },
     "execution_count": 67,
     "metadata": {},
     "output_type": "execute_result"
    }
   ],
   "source": [
    "## Take a look at the confusion matrix ([TN,FN],[FP,TP])\n",
    "confusion_matrix(y_test,predictions)"
   ]
  },
  {
   "cell_type": "code",
   "execution_count": 68,
   "metadata": {
    "collapsed": false
   },
   "outputs": [
    {
     "name": "stdout",
     "output_type": "stream",
     "text": [
      "0.94\n"
     ]
    }
   ],
   "source": [
    "## Accuracy score\n",
    "print '%0.2f' % precision_score(y_test, predictions)"
   ]
  },
  {
   "cell_type": "code",
   "execution_count": 69,
   "metadata": {
    "collapsed": false
   },
   "outputs": [
    {
     "name": "stdout",
     "output_type": "stream",
     "text": [
      "0.76\n"
     ]
    }
   ],
   "source": [
    "## Recall score\n",
    "print '%0.2f' % recall_score(y_test, predictions)"
   ]
  },
  {
   "cell_type": "code",
   "execution_count": 70,
   "metadata": {
    "collapsed": false
   },
   "outputs": [
    {
     "name": "stdout",
     "output_type": "stream",
     "text": [
      "             precision    recall  f1-score   support\n",
      "\n",
      "          0       0.96      0.99      0.98      7987\n",
      "          1       0.94      0.76      0.84      1362\n",
      "\n",
      "avg / total       0.96      0.96      0.96      9349\n",
      "\n"
     ]
    }
   ],
   "source": [
    "## Print classification report\n",
    "print classification_report(y_test, predictions)"
   ]
  },
  {
   "cell_type": "code",
   "execution_count": 71,
   "metadata": {
    "collapsed": true
   },
   "outputs": [],
   "source": [
    "## Get data to plot ROC Curve\n",
    "fp, tp, th = roc_curve(y_test, predictions)\n",
    "roc_auc = auc(fp, tp)"
   ]
  },
  {
   "cell_type": "code",
   "execution_count": 72,
   "metadata": {
    "collapsed": true
   },
   "outputs": [],
   "source": [
    "## Plot ROC Curve\n",
    "plt.title('ROC Curve')\n",
    "plt.plot(fp, tp, 'b',\n",
    "label='AUC = %0.2f'% roc_auc)\n",
    "plt.legend(loc='lower right')\n",
    "plt.plot([0,1],[0,1],'r--')\n",
    "plt.xlim([0,1])\n",
    "plt.ylim([0,1])\n",
    "plt.ylabel('True Positive Rate')\n",
    "plt.xlabel('False Positive Rate')\n",
    "plt.show()"
   ]
  },
  {
   "cell_type": "code",
   "execution_count": 56,
   "metadata": {
    "collapsed": false,
    "scrolled": true
   },
   "outputs": [
    {
     "name": "stdout",
     "output_type": "stream",
     "text": [
      "0.95\n"
     ]
    }
   ],
   "source": [
    "## Check accuracy score\n",
    "print '%0.2f' % clf.score(val_x_final,val_y)"
   ]
  },
  {
   "cell_type": "code",
   "execution_count": 57,
   "metadata": {
    "collapsed": false
   },
   "outputs": [],
   "source": [
    "## Predict y given test set\n",
    "predictions = clf.predict(val_x_final)"
   ]
  },
  {
   "cell_type": "code",
   "execution_count": 58,
   "metadata": {
    "collapsed": false
   },
   "outputs": [
    {
     "data": {
      "text/plain": [
       "array([[6594,   68],\n",
       "       [ 284,  845]])"
      ]
     },
     "execution_count": 58,
     "metadata": {},
     "output_type": "execute_result"
    }
   ],
   "source": [
    "## Take a look at the confusion matrix ([TN,FN],[FP,TP])\n",
    "confusion_matrix(val_y,predictions)"
   ]
  },
  {
   "cell_type": "code",
   "execution_count": 59,
   "metadata": {
    "collapsed": false
   },
   "outputs": [
    {
     "name": "stdout",
     "output_type": "stream",
     "text": [
      "0.93\n"
     ]
    }
   ],
   "source": [
    "## Accuracy score\n",
    "print '%0.2f' % precision_score(val_y, predictions)"
   ]
  },
  {
   "cell_type": "code",
   "execution_count": 60,
   "metadata": {
    "collapsed": false
   },
   "outputs": [
    {
     "name": "stdout",
     "output_type": "stream",
     "text": [
      "0.75\n"
     ]
    }
   ],
   "source": [
    "## Recall score\n",
    "print '%0.2f' % recall_score(val_y, predictions)"
   ]
  },
  {
   "cell_type": "code",
   "execution_count": 61,
   "metadata": {
    "collapsed": false
   },
   "outputs": [
    {
     "name": "stdout",
     "output_type": "stream",
     "text": [
      "             precision    recall  f1-score   support\n",
      "\n",
      "          0       0.96      0.99      0.97      6662\n",
      "          1       0.93      0.75      0.83      1129\n",
      "\n",
      "avg / total       0.95      0.95      0.95      7791\n",
      "\n"
     ]
    }
   ],
   "source": [
    "## Print classification report\n",
    "print classification_report(val_y, predictions)"
   ]
  },
  {
   "cell_type": "code",
   "execution_count": 62,
   "metadata": {
    "collapsed": true
   },
   "outputs": [],
   "source": [
    "## Get data to plot ROC Curve\n",
    "fp, tp, th = roc_curve(val_y, predictions)\n",
    "roc_auc = auc(fp, tp)"
   ]
  },
  {
   "cell_type": "code",
   "execution_count": 63,
   "metadata": {
    "collapsed": true
   },
   "outputs": [],
   "source": [
    "## Plot ROC Curve\n",
    "plt.title('ROC Curve')\n",
    "plt.plot(fp, tp, 'b',\n",
    "label='AUC = %0.2f'% roc_auc)\n",
    "plt.legend(loc='lower right')\n",
    "plt.plot([0,1],[0,1],'r--')\n",
    "plt.xlim([0,1])\n",
    "plt.ylim([0,1])\n",
    "plt.ylabel('True Positive Rate')\n",
    "plt.xlabel('False Positive Rate')\n",
    "plt.show()"
   ]
  },
  {
   "cell_type": "code",
   "execution_count": 75,
   "metadata": {
    "collapsed": true
   },
   "outputs": [],
   "source": [
    "params = {'class_weight':['balanced',None],\n",
    "          'criterion':['gini','entropy'],\n",
    "          'max_depth':[2,3,4],\n",
    "          'max_features':['auto','sqrt','log2',None],\n",
    "          'min_samples_leaf':[1,2,3],\n",
    "          'min_samples_split':[2,4]\n",
    "}"
   ]
  },
  {
   "cell_type": "code",
   "execution_count": 81,
   "metadata": {
    "collapsed": true
   },
   "outputs": [],
   "source": [
    "## Create estimator\n",
    "clf = DecisionTreeClassifier()"
   ]
  },
  {
   "cell_type": "code",
   "execution_count": 99,
   "metadata": {
    "collapsed": false
   },
   "outputs": [],
   "source": [
    "gs = GridSearchCV(clf,param_grid=params,scoring='recall')"
   ]
  },
  {
   "cell_type": "code",
   "execution_count": 100,
   "metadata": {
    "collapsed": false
   },
   "outputs": [
    {
     "data": {
      "text/plain": [
       "GridSearchCV(cv=None, error_score='raise',\n",
       "       estimator=DecisionTreeClassifier(class_weight=None, criterion='gini', max_depth=None,\n",
       "            max_features=None, max_leaf_nodes=None, min_samples_leaf=1,\n",
       "            min_samples_split=2, min_weight_fraction_leaf=0.0,\n",
       "            presort=False, random_state=None, splitter='best'),\n",
       "       fit_params={}, iid=True, n_jobs=1,\n",
       "       param_grid={'min_samples_leaf': [1, 2, 3, 4, 5], 'min_samples_split': [2, 4, 6], 'criterion': ['gini', 'entropy'], 'max_features': ['auto', 'sqrt', 'log2', None], 'max_depth': [2, 3, 4, 5], 'class_weight': ['balanced', None]},\n",
       "       pre_dispatch='2*n_jobs', refit=True, scoring=None, verbose=0)"
      ]
     },
     "execution_count": 100,
     "metadata": {},
     "output_type": "execute_result"
    }
   ],
   "source": [
    "gs.fit(x_train_final,y_train)"
   ]
  },
  {
   "cell_type": "code",
   "execution_count": 87,
   "metadata": {
    "collapsed": false
   },
   "outputs": [
    {
     "data": {
      "text/plain": [
       "0.98603025010544065"
      ]
     },
     "execution_count": 87,
     "metadata": {},
     "output_type": "execute_result"
    }
   ],
   "source": [
    "gs.best_score_"
   ]
  },
  {
   "cell_type": "code",
   "execution_count": 88,
   "metadata": {
    "collapsed": false
   },
   "outputs": [
    {
     "data": {
      "text/plain": [
       "DecisionTreeClassifier(class_weight='balanced', criterion='gini', max_depth=2,\n",
       "            max_features='log2', max_leaf_nodes=None, min_samples_leaf=4,\n",
       "            min_samples_split=4, min_weight_fraction_leaf=0.0,\n",
       "            presort=False, random_state=None, splitter='best')"
      ]
     },
     "execution_count": 88,
     "metadata": {},
     "output_type": "execute_result"
    }
   ],
   "source": [
    "gs.best_estimator_"
   ]
  },
  {
   "cell_type": "code",
   "execution_count": 89,
   "metadata": {
    "collapsed": false
   },
   "outputs": [
    {
     "data": {
      "text/plain": [
       "make_scorer(recall_score)"
      ]
     },
     "execution_count": 89,
     "metadata": {},
     "output_type": "execute_result"
    }
   ],
   "source": [
    "gs.scorer_"
   ]
  },
  {
   "cell_type": "code",
   "execution_count": 90,
   "metadata": {
    "collapsed": true
   },
   "outputs": [],
   "source": [
    "est = gs.best_estimator_"
   ]
  },
  {
   "cell_type": "code",
   "execution_count": 91,
   "metadata": {
    "collapsed": false
   },
   "outputs": [
    {
     "data": {
      "text/plain": [
       "DecisionTreeClassifier(class_weight='balanced', criterion='gini', max_depth=2,\n",
       "            max_features='log2', max_leaf_nodes=None, min_samples_leaf=4,\n",
       "            min_samples_split=4, min_weight_fraction_leaf=0.0,\n",
       "            presort=False, random_state=None, splitter='best')"
      ]
     },
     "execution_count": 91,
     "metadata": {},
     "output_type": "execute_result"
    }
   ],
   "source": [
    "## Fit the model using training set \n",
    "est.fit(x_train_final,y_train)"
   ]
  },
  {
   "cell_type": "code",
   "execution_count": 93,
   "metadata": {
    "collapsed": false,
    "scrolled": true
   },
   "outputs": [
    {
     "name": "stdout",
     "output_type": "stream",
     "text": [
      "0.35\n"
     ]
    }
   ],
   "source": [
    "## Check accuracy score\n",
    "print '%0.2f' % est.score(x_test_final,y_test)"
   ]
  },
  {
   "cell_type": "code",
   "execution_count": 94,
   "metadata": {
    "collapsed": false
   },
   "outputs": [],
   "source": [
    "## Predict y given test set\n",
    "predictions = est.predict(x_test_final)"
   ]
  },
  {
   "cell_type": "code",
   "execution_count": 95,
   "metadata": {
    "collapsed": false
   },
   "outputs": [
    {
     "data": {
      "text/plain": [
       "array([[1928, 6059],\n",
       "       [  61, 1301]])"
      ]
     },
     "execution_count": 95,
     "metadata": {},
     "output_type": "execute_result"
    }
   ],
   "source": [
    "## Take a look at the confusion matrix ([TN,FN],[FP,TP])\n",
    "confusion_matrix(y_test,predictions)"
   ]
  },
  {
   "cell_type": "code",
   "execution_count": 96,
   "metadata": {
    "collapsed": false
   },
   "outputs": [
    {
     "name": "stdout",
     "output_type": "stream",
     "text": [
      "0.18\n"
     ]
    }
   ],
   "source": [
    "## Accuracy score\n",
    "print '%0.2f' % precision_score(y_test, predictions)"
   ]
  },
  {
   "cell_type": "code",
   "execution_count": 97,
   "metadata": {
    "collapsed": false
   },
   "outputs": [
    {
     "name": "stdout",
     "output_type": "stream",
     "text": [
      "0.96\n"
     ]
    }
   ],
   "source": [
    "## Recall score\n",
    "print '%0.2f' % recall_score(y_test, predictions)"
   ]
  },
  {
   "cell_type": "code",
   "execution_count": 98,
   "metadata": {
    "collapsed": false
   },
   "outputs": [
    {
     "name": "stdout",
     "output_type": "stream",
     "text": [
      "             precision    recall  f1-score   support\n",
      "\n",
      "          0       0.97      0.24      0.39      7987\n",
      "          1       0.18      0.96      0.30      1362\n",
      "\n",
      "avg / total       0.85      0.35      0.37      9349\n",
      "\n"
     ]
    }
   ],
   "source": [
    "## Print classification report\n",
    "print classification_report(y_test, predictions)"
   ]
  },
  {
   "cell_type": "code",
   "execution_count": 71,
   "metadata": {
    "collapsed": true
   },
   "outputs": [],
   "source": [
    "## Get data to plot ROC Curve\n",
    "fp, tp, th = roc_curve(y_test, predictions)\n",
    "roc_auc = auc(fp, tp)"
   ]
  },
  {
   "cell_type": "code",
   "execution_count": 72,
   "metadata": {
    "collapsed": true
   },
   "outputs": [],
   "source": [
    "## Plot ROC Curve\n",
    "plt.title('ROC Curve')\n",
    "plt.plot(fp, tp, 'b',\n",
    "label='AUC = %0.2f'% roc_auc)\n",
    "plt.legend(loc='lower right')\n",
    "plt.plot([0,1],[0,1],'r--')\n",
    "plt.xlim([0,1])\n",
    "plt.ylim([0,1])\n",
    "plt.ylabel('True Positive Rate')\n",
    "plt.xlabel('False Positive Rate')\n",
    "plt.show()"
   ]
  }
 ],
 "metadata": {
  "kernelspec": {
   "display_name": "Python [Root]",
   "language": "python",
   "name": "Python [Root]"
  },
  "language_info": {
   "codemirror_mode": {
    "name": "ipython",
    "version": 2
   },
   "file_extension": ".py",
   "mimetype": "text/x-python",
   "name": "python",
   "nbconvert_exporter": "python",
   "pygments_lexer": "ipython2",
   "version": "2.7.12"
  }
 },
 "nbformat": 4,
 "nbformat_minor": 0
}
